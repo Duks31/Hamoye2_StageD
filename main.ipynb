{
 "cells": [
  {
   "cell_type": "code",
   "execution_count": 1,
   "metadata": {},
   "outputs": [],
   "source": [
    "import numpy as np\n",
    "import pandas as pd\n",
    "import seaborn as sns   \n",
    "import matplotlib.pyplot as plt\n",
    "import tensorflow as tf\n",
    "from tensorflow import keras"
   ]
  },
  {
   "cell_type": "code",
   "execution_count": 2,
   "metadata": {},
   "outputs": [
    {
     "name": "stdout",
     "output_type": "stream",
     "text": [
      "Training Images: (60000, 28, 28), (60000,)\n"
     ]
    }
   ],
   "source": [
    "mnist = keras.datasets.mnist\n",
    "\n",
    "(train_images, train_labels), (test_images, test_labels) = mnist.load_data()\n",
    "\n",
    "print(\"Training Images: {}, {}\". format(train_images.shape, train_labels.shape))"
   ]
  },
  {
   "cell_type": "code",
   "execution_count": 3,
   "metadata": {},
   "outputs": [
    {
     "name": "stdout",
     "output_type": "stream",
     "text": [
      "Test Images: (10000, 28, 28), (10000,)\n"
     ]
    }
   ],
   "source": [
    "print(\"Test Images: {}, {}\". format(test_images.shape, test_labels.shape))"
   ]
  },
  {
   "cell_type": "code",
   "execution_count": 4,
   "metadata": {},
   "outputs": [
    {
     "name": "stdout",
     "output_type": "stream",
     "text": [
      "There are 10 classes in the dataset. They are: [0 1 2 3 4 5 6 7 8 9]\n"
     ]
    }
   ],
   "source": [
    "class_labels = np.unique(train_labels)\n",
    "print(\"There are {} classes in the dataset. They are: {}\".format(len(class_labels), class_labels))"
   ]
  },
  {
   "cell_type": "code",
   "execution_count": 5,
   "metadata": {},
   "outputs": [
    {
     "data": {
      "image/png": "[encoded data removed]",
      "text/plain": [
       "<Figure size 576x360 with 3 Axes>"
      ]
     },
     "metadata": {
      "needs_background": "light"
     },
     "output_type": "display_data"
    }
   ],
   "source": [
    "plt.figure(figsize=(8,5))\n",
    "\n",
    "plt.subplot(1,3,1)\n",
    "plt.imshow(train_images[0])\n",
    "plt.title(\"Label: {}\".format(train_labels[0]))\n",
    "\n",
    "plt.subplot(1,3,2)\n",
    "plt.imshow(train_images[2500])\n",
    "plt.title(\"Label: {}\".format(train_labels[2500]))\n",
    "\n",
    "plt.subplot(1,3,3)\n",
    "plt.imshow(test_images[12])\n",
    "plt.title(\"Label: {}\".format(test_labels[12]))\n",
    "\n",
    "plt.show()"
   ]
  },
  {
   "cell_type": "code",
   "execution_count": 6,
   "metadata": {},
   "outputs": [],
   "source": [
    "train_images = train_images / 255.0\n",
    "test_images = test_images / 255.0"
   ]
  },
  {
   "cell_type": "code",
   "execution_count": 7,
   "metadata": {},
   "outputs": [
    {
     "name": "stdout",
     "output_type": "stream",
     "text": [
      "x_train: (50000, 28, 28)\n",
      "x_val: (10000, 28, 28)\n",
      "y_train: (50000,)\n",
      "y_val: (10000,)\n"
     ]
    }
   ],
   "source": [
    "x_train = train_images[0:50000]\n",
    "x_val = train_images[50000:60000]\n",
    "y_train = train_labels[0:50000]\n",
    "y_val = train_labels[50000:60000]\n",
    "\n",
    "\n",
    "print(\"x_train: {}\".format(x_train.shape))\n",
    "print(\"x_val: {}\".format(x_val.shape))\n",
    "print(\"y_train: {}\".format(y_train.shape))\n",
    "print(\"y_val: {}\".format(y_val.shape))"
   ]
  },
  {
   "cell_type": "code",
   "execution_count": 8,
   "metadata": {},
   "outputs": [],
   "source": [
    "# reshpaing the data\n",
    "new_dimension = np.prod(train_images.shape[1:])\n",
    "x_train = x_train.reshape(x_train.shape[0], new_dimension)\n",
    "x_val = x_val.reshape(x_val.shape[0], new_dimension)\n",
    "test_images = test_images.reshape(test_images.shape[0], new_dimension)"
   ]
  },
  {
   "cell_type": "code",
   "execution_count": 9,
   "metadata": {},
   "outputs": [
    {
     "name": "stdout",
     "output_type": "stream",
     "text": [
      "x_train: (50000, 784)\n",
      "x_val: (10000, 784)\n",
      "test_images: (10000, 784)\n"
     ]
    }
   ],
   "source": [
    "print(\"x_train: {}\".format(x_train.shape))\n",
    "print(\"x_val: {}\".format(x_val.shape))\n",
    "print(\"test_images: {}\".format(test_images.shape))\n"
   ]
  },
  {
   "cell_type": "code",
   "execution_count": 10,
   "metadata": {},
   "outputs": [],
   "source": [
    "from tensorflow.keras.utils import to_categorical\n",
    "\n",
    "no_labels = 10\n",
    "y_train = to_categorical(y_train, no_labels)\n",
    "y_val = to_categorical(y_val, no_labels)\n",
    "test_labels = to_categorical(test_labels, no_labels)"
   ]
  },
  {
   "cell_type": "code",
   "execution_count": 11,
   "metadata": {},
   "outputs": [],
   "source": [
    "# X = tf.placeholder(tf.float32, [None, new_dimension])\n",
    "# Y = tf.placeholder(tf.float32, [None, no_labels])\n",
    "\n",
    "# # create model architecture\n",
    "# def multilayer_perceptron(x, no_classes, first_layer_neurons=256, second_layer_neurons=128):\n",
    "\n",
    "#     first_weight = tf.Variable(tf.random_uniform([new_dimension, first_layer_neurons]))\n",
    "#     first_bias = tf.Variable(tf.zeros([first_layer_neurons]))\n",
    "#     first_layer_output = tf.nn.relu(tf.add(tf.matmul(x, first_weight), first_bias))\n",
    "\n",
    "#     second_weight = tf.Variable(tf.random_uniform([first_layer_neurons,second_layer_neurons]))\n",
    "#     second_bias = tf.Variable(tf.zeros([second_layer_neurons]))\n",
    "#     second_layer_output = tf.nn.relu(tf.add(tf.matmul(first_layer_output, second_weight), \n",
    "#     second_bias))\n",
    "\n",
    "#     final_weight = tf.Variable(tf.random_uniform([second_layer_neurons, no_classes]))\n",
    "#     final_bias = tf.Variable(tf.zeros([no_classes]))\n",
    "#     logits = tf.add(tf.matmul(second_layer_output, final_weight), final_bias)\n",
    "\n",
    "#     return logits"
   ]
  },
  {
   "cell_type": "code",
   "execution_count": 12,
   "metadata": {},
   "outputs": [],
   "source": [
    "# logits = multilayer_perceptron(X, no_labels)\n",
    "# learning_rate = 0.01\n",
    "\n",
    "# #we define the loss and optimiser for the network\n",
    "# loss_op = tf.reduce_mean(tf.nn.softmax_cross_entropy_with_logits(logits=logits, labels=Y))\n",
    "# optimiser = tf.train.AdamOptimizer(learning_rate=learning_rate)\n",
    "# train_op = optimiser.minimize(loss_op)\n",
    "\n",
    "# init = tf.global_variables_initializer()\n",
    "# epochs = 20\n",
    "# batch_size = 1000\n",
    "# iteration = len(x_train) // batch_size\n",
    "\n",
    "# with tf.Session() as session:\n",
    "#     session.run(init)\n",
    "#     for epoch in range(epochs):\n",
    "#     average_cost = 0\n",
    "#     start, end = 0, batch_size\n",
    "#     for i in range(iteration):\n",
    "#     batch_x, batch_y = x_train[start: end], y_train[start: end]\n",
    "#     _, loss = session.run([train_op, loss_op], feed_dict={X: batch_x, Y: batch_y})\n",
    "#     start += batch_size\n",
    "#     end += batch_size \n",
    "#     #average loss\n",
    "#     average_cost += loss/iteration\n",
    "#     print(\"Epoch========{}\".format(epoch))\n",
    " \n",
    "#     #evaluate model\n",
    "#     prediction = tf.nn.softmax(logits)\n",
    "#     ground_truth = tf.equal(tf.argmax(prediction, 1), tf.argmax(Y, 1))\n",
    "#     accuracy = tf.reduce_mean(tf.cast(ground_truth, \"float\"))\n",
    "#     print(\"Accuracy: {}\".format(accuracy.eval({X: test_images, Y: y_test})))\n"
   ]
  },
  {
   "cell_type": "code",
   "execution_count": 14,
   "metadata": {},
   "outputs": [
    {
     "name": "stdout",
     "output_type": "stream",
     "text": [
      "Model: \"sequential\"\n",
      "_________________________________________________________________\n",
      " Layer (type)                Output Shape              Param #   \n",
      "=================================================================\n",
      " dense (Dense)               (None, 256)               200960    \n",
      "                                                                 \n",
      " dense_1 (Dense)             (None, 128)               32896     \n",
      "                                                                 \n",
      " dense_2 (Dense)             (None, 10)                1290      \n",
      "                                                                 \n",
      "=================================================================\n",
      "Total params: 235,146\n",
      "Trainable params: 235,146\n",
      "Non-trainable params: 0\n",
      "_________________________________________________________________\n"
     ]
    }
   ],
   "source": [
    "# Building a sequential FeedForward Neural Network in Keras\n",
    "\n",
    "from tensorflow.keras.models import Sequential\n",
    "from tensorflow.keras.layers import Dense\n",
    "\n",
    "model = Sequential()\n",
    "model.add(Dense(256, activation = 'relu', input_shape = (new_dimension,)))\n",
    "model.add(Dense(128, activation = 'relu'))\n",
    "model.add(Dense(no_labels, activation = 'softmax'))\n",
    "\n",
    "model.summary()"
   ]
  },
  {
   "cell_type": "code",
   "execution_count": 15,
   "metadata": {},
   "outputs": [
    {
     "name": "stdout",
     "output_type": "stream",
     "text": [
      "Epoch 1/20\n",
      "50/50 [==============================] - 8s 49ms/step - loss: 0.6878 - accuracy: 0.8216 - val_loss: 0.2531 - val_accuracy: 0.9278\n",
      "Epoch 2/20\n",
      "50/50 [==============================] - 1s 27ms/step - loss: 0.2327 - accuracy: 0.9327 - val_loss: 0.1858 - val_accuracy: 0.9488\n",
      "Epoch 3/20\n",
      "50/50 [==============================] - 2s 31ms/step - loss: 0.1700 - accuracy: 0.9514 - val_loss: 0.1484 - val_accuracy: 0.9572\n",
      "Epoch 4/20\n",
      "50/50 [==============================] - 1s 28ms/step - loss: 0.1325 - accuracy: 0.9615 - val_loss: 0.1258 - val_accuracy: 0.9641\n",
      "Epoch 5/20\n",
      "50/50 [==============================] - 1s 27ms/step - loss: 0.1073 - accuracy: 0.9689 - val_loss: 0.1110 - val_accuracy: 0.9681\n",
      "Epoch 6/20\n",
      "50/50 [==============================] - 1s 27ms/step - loss: 0.0890 - accuracy: 0.9748 - val_loss: 0.1054 - val_accuracy: 0.9685\n",
      "Epoch 7/20\n",
      "50/50 [==============================] - 2s 45ms/step - loss: 0.0759 - accuracy: 0.9785 - val_loss: 0.0987 - val_accuracy: 0.9688\n",
      "Epoch 8/20\n",
      "50/50 [==============================] - 1s 22ms/step - loss: 0.0646 - accuracy: 0.9817 - val_loss: 0.0934 - val_accuracy: 0.9729\n",
      "Epoch 9/20\n",
      "50/50 [==============================] - 2s 31ms/step - loss: 0.0549 - accuracy: 0.9847 - val_loss: 0.0890 - val_accuracy: 0.9730\n",
      "Epoch 10/20\n",
      "50/50 [==============================] - 2s 31ms/step - loss: 0.0469 - accuracy: 0.9873 - val_loss: 0.0848 - val_accuracy: 0.9751\n",
      "Epoch 11/20\n",
      "50/50 [==============================] - 1s 26ms/step - loss: 0.0402 - accuracy: 0.9894 - val_loss: 0.0817 - val_accuracy: 0.9749\n",
      "Epoch 12/20\n",
      "50/50 [==============================] - 2s 32ms/step - loss: 0.0345 - accuracy: 0.9910 - val_loss: 0.0800 - val_accuracy: 0.9758\n",
      "Epoch 13/20\n",
      "50/50 [==============================] - 1s 25ms/step - loss: 0.0301 - accuracy: 0.9924 - val_loss: 0.0823 - val_accuracy: 0.9763\n",
      "Epoch 14/20\n",
      "50/50 [==============================] - 2s 33ms/step - loss: 0.0263 - accuracy: 0.9940 - val_loss: 0.0824 - val_accuracy: 0.9761\n",
      "Epoch 15/20\n",
      "50/50 [==============================] - 1s 24ms/step - loss: 0.0236 - accuracy: 0.9944 - val_loss: 0.0783 - val_accuracy: 0.9765\n",
      "Epoch 16/20\n",
      "50/50 [==============================] - 2s 36ms/step - loss: 0.0207 - accuracy: 0.9952 - val_loss: 0.0795 - val_accuracy: 0.9769\n",
      "Epoch 17/20\n",
      "50/50 [==============================] - 1s 24ms/step - loss: 0.0170 - accuracy: 0.9965 - val_loss: 0.0819 - val_accuracy: 0.9768\n",
      "Epoch 18/20\n",
      "50/50 [==============================] - 1s 22ms/step - loss: 0.0144 - accuracy: 0.9973 - val_loss: 0.0760 - val_accuracy: 0.9781\n",
      "Epoch 19/20\n",
      "50/50 [==============================] - 1s 28ms/step - loss: 0.0126 - accuracy: 0.9979 - val_loss: 0.0798 - val_accuracy: 0.9779\n",
      "Epoch 20/20\n",
      "50/50 [==============================] - 1s 27ms/step - loss: 0.0107 - accuracy: 0.9983 - val_loss: 0.0814 - val_accuracy: 0.9781\n"
     ]
    }
   ],
   "source": [
    "model.compile(optimizer= 'adam', loss = tf.keras.losses.categorical_crossentropy, metrics=['accuracy'])\n",
    "history = model.fit(x_train, y_train, validation_data=(x_val, y_val), epochs=20, batch_size=1000)\n"
   ]
  },
  {
   "cell_type": "code",
   "execution_count": 16,
   "metadata": {},
   "outputs": [
    {
     "name": "stdout",
     "output_type": "stream",
     "text": [
      "313/313 [==============================] - 2s 4ms/step - loss: 0.0773 - accuracy: 0.9783\n",
      "Test loss: 0.07729291170835495\n",
      "Test Accuracy: 0.9782999753952026\n"
     ]
    }
   ],
   "source": [
    "test_loss, test_accuracy = model.evaluate(test_images, test_labels)\n",
    "print('Test loss: {}'.format(test_loss))\n",
    "print('Test Accuracy: {}'.format(test_accuracy))\n"
   ]
  },
  {
   "cell_type": "code",
   "execution_count": 19,
   "metadata": {},
   "outputs": [
    {
     "data": {
      "text/plain": [
       "Text(0.5, 1.0, 'Loss Curve - before regularization')"
      ]
     },
     "execution_count": 19,
     "metadata": {},
     "output_type": "execute_result"
    },
    {
     "data": {
      "image/png": "[encoded data removed]",
      "text/plain": [
       "<Figure size 432x288 with 1 Axes>"
      ]
     },
     "metadata": {
      "needs_background": "light"
     },
     "output_type": "display_data"
    }
   ],
   "source": [
    "plt.figure()\n",
    "plt.plot(history.history['loss'], 'blue')\n",
    "plt.plot(history.history['val_loss'], 'red')\n",
    "plt.legend(['Training Loss', 'validation Loss'])\n",
    "plt.xlabel('epochs')\n",
    "plt.ylabel('loss')\n",
    "plt.title('Loss Curve - before regularization')\n"
   ]
  },
  {
   "cell_type": "code",
   "execution_count": 21,
   "metadata": {},
   "outputs": [
    {
     "name": "stdout",
     "output_type": "stream",
     "text": [
      "Model: \"sequential_1\"\n",
      "_________________________________________________________________\n",
      " Layer (type)                Output Shape              Param #   \n",
      "=================================================================\n",
      " dense_3 (Dense)             (None, 256)               200960    \n",
      "                                                                 \n",
      " dropout (Dropout)           (None, 256)               0         \n",
      "                                                                 \n",
      " dense_4 (Dense)             (None, 128)               32896     \n",
      "                                                                 \n",
      " dropout_1 (Dropout)         (None, 128)               0         \n",
      "                                                                 \n",
      " dense_5 (Dense)             (None, 10)                1290      \n",
      "                                                                 \n",
      "=================================================================\n",
      "Total params: 235,146\n",
      "Trainable params: 235,146\n",
      "Non-trainable params: 0\n",
      "_________________________________________________________________\n"
     ]
    }
   ],
   "source": [
    "from tensorflow.keras.layers import Dropout\n",
    "\n",
    "reg_model = Sequential()\n",
    "reg_model.add(Dense(256, activation = 'relu', input_shape = (new_dimension,)))\n",
    "reg_model.add(Dropout(0.4))\n",
    "reg_model.add(Dense(128, activation = 'relu'))\n",
    "reg_model.add(Dropout(0.4))\n",
    "reg_model.add(Dense(no_labels, activation = 'softmax'))\n",
    "\n",
    "reg_model.summary()\n"
   ]
  },
  {
   "cell_type": "code",
   "execution_count": 23,
   "metadata": {},
   "outputs": [
    {
     "name": "stdout",
     "output_type": "stream",
     "text": [
      "Epoch 1/20\n",
      "50/50 [==============================] - 5s 67ms/step - loss: 0.9610 - accuracy: 0.6983 - val_loss: 0.2943 - val_accuracy: 0.9155\n",
      "Epoch 2/20\n",
      "50/50 [==============================] - 1s 27ms/step - loss: 0.3750 - accuracy: 0.8888 - val_loss: 0.1984 - val_accuracy: 0.9434\n",
      "Epoch 3/20\n",
      "50/50 [==============================] - 1s 26ms/step - loss: 0.2800 - accuracy: 0.9178 - val_loss: 0.1599 - val_accuracy: 0.9547\n",
      "Epoch 4/20\n",
      "50/50 [==============================] - 2s 45ms/step - loss: 0.2305 - accuracy: 0.9339 - val_loss: 0.1380 - val_accuracy: 0.9600\n",
      "Epoch 5/20\n",
      "50/50 [==============================] - 3s 70ms/step - loss: 0.1964 - accuracy: 0.9419 - val_loss: 0.1214 - val_accuracy: 0.9641\n",
      "Epoch 6/20\n",
      "50/50 [==============================] - 3s 65ms/step - loss: 0.1747 - accuracy: 0.9474 - val_loss: 0.1102 - val_accuracy: 0.9677\n",
      "Epoch 7/20\n",
      "50/50 [==============================] - 3s 65ms/step - loss: 0.1530 - accuracy: 0.9546 - val_loss: 0.1018 - val_accuracy: 0.9693\n",
      "Epoch 8/20\n",
      "50/50 [==============================] - 3s 64ms/step - loss: 0.1406 - accuracy: 0.9583 - val_loss: 0.0957 - val_accuracy: 0.9716\n",
      "Epoch 9/20\n",
      "50/50 [==============================] - 3s 70ms/step - loss: 0.1261 - accuracy: 0.9618 - val_loss: 0.0906 - val_accuracy: 0.9743\n",
      "Epoch 10/20\n",
      "50/50 [==============================] - 3s 66ms/step - loss: 0.1201 - accuracy: 0.9655 - val_loss: 0.0865 - val_accuracy: 0.9738\n",
      "Epoch 11/20\n",
      "50/50 [==============================] - 3s 66ms/step - loss: 0.1070 - accuracy: 0.9684 - val_loss: 0.0845 - val_accuracy: 0.9751\n",
      "Epoch 12/20\n",
      "50/50 [==============================] - 4s 76ms/step - loss: 0.1019 - accuracy: 0.9695 - val_loss: 0.0803 - val_accuracy: 0.9756\n",
      "Epoch 13/20\n",
      "50/50 [==============================] - 5s 100ms/step - loss: 0.0971 - accuracy: 0.9707 - val_loss: 0.0806 - val_accuracy: 0.9761\n",
      "Epoch 14/20\n",
      "50/50 [==============================] - 6s 114ms/step - loss: 0.0893 - accuracy: 0.9732 - val_loss: 0.0784 - val_accuracy: 0.9764\n",
      "Epoch 15/20\n",
      "50/50 [==============================] - 3s 56ms/step - loss: 0.0838 - accuracy: 0.9745 - val_loss: 0.0766 - val_accuracy: 0.9767\n",
      "Epoch 16/20\n",
      "50/50 [==============================] - 2s 49ms/step - loss: 0.0813 - accuracy: 0.9748 - val_loss: 0.0749 - val_accuracy: 0.9769\n",
      "Epoch 17/20\n",
      "50/50 [==============================] - 3s 61ms/step - loss: 0.0778 - accuracy: 0.9760 - val_loss: 0.0750 - val_accuracy: 0.9765\n",
      "Epoch 18/20\n",
      "50/50 [==============================] - 2s 44ms/step - loss: 0.0736 - accuracy: 0.9780 - val_loss: 0.0731 - val_accuracy: 0.9776\n",
      "Epoch 19/20\n",
      "50/50 [==============================] - 2s 48ms/step - loss: 0.0694 - accuracy: 0.9791 - val_loss: 0.0728 - val_accuracy: 0.9796\n",
      "Epoch 20/20\n",
      "50/50 [==============================] - 2s 43ms/step - loss: 0.0664 - accuracy: 0.9792 - val_loss: 0.0716 - val_accuracy: 0.9795\n"
     ]
    }
   ],
   "source": [
    "\n",
    "reg_model.compile(optimizer='adam', loss = tf.keras.losses.categorical_crossentropy, metrics = ['accuracy'])\n",
    "reg_history = reg_model.fit(x_train, y_train, validation_data=(x_val, y_val), epochs=20, batch_size = 1000)\n",
    "\n"
   ]
  },
  {
   "cell_type": "code",
   "execution_count": 24,
   "metadata": {},
   "outputs": [
    {
     "name": "stdout",
     "output_type": "stream",
     "text": [
      "313/313 [==============================] - 5s 5ms/step - loss: 0.0683 - accuracy: 0.9795\n",
      "Test loss: 0.06830349564552307\n",
      "Test Accuracy: 0.9794999957084656\n"
     ]
    }
   ],
   "source": [
    "test_loss, test_accuracy = reg_model.evaluate(test_images, test_labels)\n",
    "print('Test loss: {}'.format(test_loss))\n",
    "print('Test Accuracy: {}'.format(test_accuracy))\n"
   ]
  },
  {
   "cell_type": "code",
   "execution_count": 25,
   "metadata": {},
   "outputs": [
    {
     "data": {
      "text/plain": [
       "Text(0.5, 1.0, 'Loss Curve - before regularization')"
      ]
     },
     "execution_count": 25,
     "metadata": {},
     "output_type": "execute_result"
    },
    {
     "data": {
      "image/png": "[encoded data removed]",
      "text/plain": [
       "<Figure size 432x288 with 1 Axes>"
      ]
     },
     "metadata": {
      "needs_background": "light"
     },
     "output_type": "display_data"
    }
   ],
   "source": [
    "plt.figure()\n",
    "plt.plot(reg_history.history['loss'], 'blue')\n",
    "plt.plot(reg_history.history['val_loss'], 'red')\n",
    "plt.legend(['Training Loss', 'validation Loss'])\n",
    "plt.xlabel('epochs')\n",
    "plt.ylabel('loss')\n",
    "plt.title('Loss Curve - before regularization')\n"
   ]
  },
  {
   "cell_type": "code",
   "execution_count": null,
   "metadata": {},
   "outputs": [],
   "source": []
  }
 ],
 "metadata": {
  "kernelspec": {
   "display_name": "code",
   "language": "python",
   "name": "code"
  },
  "language_info": {
   "codemirror_mode": {
    "name": "ipython",
    "version": 3
   },
   "file_extension": ".py",
   "mimetype": "text/x-python",
   "name": "python",
   "nbconvert_exporter": "python",
   "pygments_lexer": "ipython3",
   "version": "3.10.7"
  },
  "orig_nbformat": 4,
  "vscode": {
   "interpreter": {
    "hash": "3369b3a75f9b9f773b7395262b1c35dbdb20bc837bfadc97feb5ad4b64f8b5a0"
   }
  }
 },
 "nbformat": 4,
 "nbformat_minor": 2
}
